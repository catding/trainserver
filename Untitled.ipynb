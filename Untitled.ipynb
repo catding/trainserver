{
 "cells": [
  {
   "cell_type": "code",
   "execution_count": null,
   "metadata": {
    "scrolled": false
   },
   "outputs": [],
   "source": [
    "import pandas as pd\n",
    "df = pd.read_excel('E:/合规培训/培训设计/设计方案/试卷包模板20181212/fhlhgsj.xlsx')\n",
    "ioexcel = pd.ExcelFile('E:/合规培训/培训设计/设计方案/试卷包模板20181212/fhlhgsj.xlsx')\n",
    "df.isnull()\n",
    "df.isna()"
   ]
  },
  {
   "cell_type": "code",
   "execution_count": 5,
   "metadata": {},
   "outputs": [
    {
     "name": "stdout",
     "output_type": "stream",
     "text": [
      "['django.middleware.gzip.GZipMiddleware', 'django.middleware.security.SecurityMiddleware', 'django.contrib.sessions.middleware.SessionMiddleware', 'django.middleware.common.CommonMiddleware', 'django.middleware.csrf.CsrfViewMiddleware', 'corsheaders.middleware.CorsPostCsrfMiddleware', 'django.contrib.auth.middleware.AuthenticationMiddleware', 'django.contrib.messages.middleware.MessageMiddleware', 'django.middleware.clickjacking.XFrameOptionsMiddleware', 'mystatistics.VisitTimesMiddleware.VisitTimes', 'simple_history.middleware.HistoryRequestMiddleware']\n"
     ]
    }
   ],
   "source": [
    "MIDDLEWARE = [\n",
    "    'django.middleware.gzip.GZipMiddleware',\n",
    "    # 'corsheaders.middleware.CorsMiddleware',\n",
    "    'django.middleware.security.SecurityMiddleware',\n",
    "    'django.contrib.sessions.middleware.SessionMiddleware',\n",
    "\n",
    "    'django.middleware.common.CommonMiddleware',\n",
    "    'django.middleware.csrf.CsrfViewMiddleware',\n",
    "    # 'corsheaders.middleware.CorsPostCsrfMiddleware',\n",
    "    'django.contrib.auth.middleware.AuthenticationMiddleware',\n",
    "    'django.contrib.messages.middleware.MessageMiddleware',\n",
    "    'django.middleware.clickjacking.XFrameOptionsMiddleware',\n",
    "    'mystatistics.VisitTimesMiddleware.VisitTimes',\n",
    "    'simple_history.middleware.HistoryRequestMiddleware',\n",
    "\n",
    "]\n",
    "t = MIDDLEWARE.index('django.middleware.csrf.CsrfViewMiddleware')\n",
    "MIDDLEWARE.insert(t+1,'corsheaders.middleware.CorsPostCsrfMiddleware')\n",
    "print(MIDDLEWARE)"
   ]
  },
  {
   "cell_type": "code",
   "execution_count": null,
   "metadata": {},
   "outputs": [],
   "source": [
    "from django.urls import NoReverseMatch, reverse\n",
    "a=list([1,2,3])\n",
    "a.insert(0,5)\n",
    "print(a)\n",
    "t=reverse('admin:index',current_app='admin')"
   ]
  },
  {
   "cell_type": "code",
   "execution_count": null,
   "metadata": {
    "scrolled": true
   },
   "outputs": [],
   "source": [
    "def testfunc(**kwarg):\n",
    " \n",
    "    q=dict()\n",
    "    for key,value in kwarg.items():\n",
    "        if value != 'nan':\n",
    "            \n",
    "            q.update({key:value})\n",
    "    return q\n",
    "dt=testfunc(A=1)\n",
    "print(dt)\n",
    "df.isnull()\n",
    "df['q']=df.apply(lambda x: testfunc(**{'A':x['选项A'],'B':x['选项B'],'C':x['选项C'],'D':x['选项D'],'E':x['选项E'],'F':x['选项F']}), axis = 1)\n",
    "df.dropna(how='all')\n",
    "\n"
   ]
  },
  {
   "cell_type": "code",
   "execution_count": null,
   "metadata": {
    "scrolled": true
   },
   "outputs": [],
   "source": []
  },
  {
   "cell_type": "code",
   "execution_count": null,
   "metadata": {},
   "outputs": [],
   "source": [
    "t=ioexcel.parse(sheet_name='试题',dtype={'选项A':str,'选项B':str,'选项C':str,'选项D':str,'选项E':str,'选项F':str})\n",
    "print(pd.isna(pd.np.nan))\n",
    "print(pd.np.nan)\n",
    "tg=t.groupby(t['试题分类'])\n",
    "t3=t.loc[df['试题分类'] == '多选题']\n",
    "t3.reset_index()\n",
    "t4=tg.get_group('多选题').reset_index(drop=True)\n",
    "t4.index += 1\n",
    "t4['选项']=t4.apply(lambda x: testfunc(**{'A':x['选项A'],'B':x['选项B'],'C':x['选项C'],'D':x['选项D'],'E':x['选项E'],'F':x['选项F']}), axis = 1)\n",
    "t6=t4.drop(['选项A','选项B','选项C','选项D','选项E','选项F','序号','试题分类'], axis=1)\n",
    "\n",
    "t5=t6.to_dict('index')\n",
    "tlist=[]\n",
    "print(t5)\n",
    "for key,value in t5.items():\n",
    "\n",
    "    value['sore'] = 1\n",
    "    tlist.append(value)\n",
    "print(tlist)"
   ]
  },
  {
   "cell_type": "code",
   "execution_count": null,
   "metadata": {
    "scrolled": true
   },
   "outputs": [],
   "source": [
    "t=ioexcel.parse(sheet_name='介绍')\n",
    "t.values"
   ]
  },
  {
   "cell_type": "code",
   "execution_count": null,
   "metadata": {},
   "outputs": [],
   "source": [
    "t"
   ]
  },
  {
   "cell_type": "code",
   "execution_count": null,
   "metadata": {},
   "outputs": [],
   "source": [
    "\n",
    "data=df.values #获取所有的数据，注意这里不能用head()方法哦~\n",
    "print(\"获取到所有的值:\\n{0}\".format(data))#格式化输出"
   ]
  },
  {
   "cell_type": "code",
   "execution_count": null,
   "metadata": {
    "scrolled": true
   },
   "outputs": [],
   "source": [
    "t1= t\n",
    "t2=t1.set_index('标题')"
   ]
  },
  {
   "cell_type": "code",
   "execution_count": null,
   "metadata": {},
   "outputs": [],
   "source": [
    "t2.index\n",
    "t2.loc['试卷编号'].values[0]\n",
    "t2.loc['试卷编号']['内容']\n"
   ]
  },
  {
   "cell_type": "code",
   "execution_count": null,
   "metadata": {},
   "outputs": [],
   "source": [
    "t=df.to_dict(orient='records')\n",
    "print(t)\n"
   ]
  },
  {
   "cell_type": "code",
   "execution_count": null,
   "metadata": {
    "scrolled": true
   },
   "outputs": [],
   "source": [
    "df = pd.DataFrame({'month': [1, 4, 7, 10],\n",
    "...                    'year': [2012, 2014, 2013, 2014],\n",
    "...                    'sale':[55, 40, 84, 31]})\n",
    "df\n"
   ]
  },
  {
   "cell_type": "code",
   "execution_count": null,
   "metadata": {},
   "outputs": [],
   "source": [
    "dd=df.set_index('month')\n",
    "pendulum"
   ]
  },
  {
   "cell_type": "code",
   "execution_count": null,
   "metadata": {},
   "outputs": [],
   "source": [
    "import pendulum\n",
    "today = pendulum.today().date()\n",
    "yestoday = pendulum.yesterday().date()\n",
    "period = pendulum.period(today,yestoday)\n",
    "print(period.remaining_days)\n",
    "print(period.days)"
   ]
  },
  {
   "cell_type": "code",
   "execution_count": null,
   "metadata": {},
   "outputs": [],
   "source": [
    "tt=1\n",
    "t2=3\n",
    "data=dict(tt=tt)\n",
    "print(data)"
   ]
  },
  {
   "cell_type": "code",
   "execution_count": null,
   "metadata": {},
   "outputs": [],
   "source": [
    "from exampaper.models import ExamPaPer\n",
    "t=ExamPaper.objects.get(id=5)\n",
    "d=t.questions.all().values('id','answer')\n",
    "print(d)"
   ]
  },
  {
   "cell_type": "code",
   "execution_count": null,
   "metadata": {},
   "outputs": [],
   "source": [
    "import json\n",
    "with open(\"geo/city.json\", 'r',encoding=\"utf-8\") as f:\n",
    "  temp = json.loads(f.read())\n",
    "\n",
    "print(temp)"
   ]
  },
  {
   "cell_type": "code",
   "execution_count": null,
   "metadata": {},
   "outputs": [],
   "source": [
    "t=[]\n",
    "dd={'sdf':1}\n",
    "t.append(dd)\n",
    "dddd=t.append(dd)\n",
    "ss={}\n",
    "ss.update({'df':t.append(dd)})\n",
    "print(dddd)"
   ]
  }
 ],
 "metadata": {
  "kernelspec": {
   "display_name": "Python 3",
   "language": "python",
   "name": "python3"
  },
  "language_info": {
   "codemirror_mode": {
    "name": "ipython",
    "version": 3
   },
   "file_extension": ".py",
   "mimetype": "text/x-python",
   "name": "python",
   "nbconvert_exporter": "python",
   "pygments_lexer": "ipython3",
   "version": "3.7.2"
  }
 },
 "nbformat": 4,
 "nbformat_minor": 2
}
